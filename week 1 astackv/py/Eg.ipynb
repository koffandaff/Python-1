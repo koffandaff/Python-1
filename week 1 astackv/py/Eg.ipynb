{
 "cells": [
  {
   "cell_type": "markdown",
   "metadata": {},
   "source": [
    "## Identifiers:\n",
    "\n",
    "#### **What are identifiers** :\n",
    "\n",
    "A name in python program is called identifiers\n",
    "\n",
    "It's  provided by users\n",
    "The identifiers can be :\n",
    "\n",
    "* Variable-names\n",
    "* function_names\n",
    "* module_name\n",
    "* etc\n",
    "\n",
    "**for eg**: \n",
    "\n",
    "1. x = 10\n",
    "2. def function_name:\n",
    "3. class_name,etc\n",
    "\n",
    "#### **Rules For Identifier** :\n",
    "\n",
    "There are rules to define an Identifier\n",
    "\n",
    "they are:\n",
    "\n",
    "1. Can't Start with Number (eg. 1a = 10 is wrong)\n",
    "2. no special Character ( excluding ' _ ' underscore) \n",
    "3. Cannot be a keyword\n",
    "4. a to z, A to Z, 0 to 9 \n",
    "5. Should be unique as python is case sensitive \n",
    "6. if it starts with underscore ' _ ' then it's called the private identifier\n",
    "7. if it starts with underscore ' __ ' then it's called the strongly private identifier\n",
    "8. if it stars and ends with double underscore ' __ ' then it's called magic identifier "
   ]
  },
  {
   "cell_type": "code",
   "execution_count": null,
   "metadata": {},
   "outputs": [],
   "source": []
  }
 ],
 "metadata": {
  "kernelspec": {
   "display_name": "Python 3",
   "language": "python",
   "name": "python3"
  },
  "language_info": {
   "codemirror_mode": {
    "name": "ipython",
    "version": 3
   },
   "file_extension": ".py",
   "mimetype": "text/x-python",
   "name": "python",
   "nbconvert_exporter": "python",
   "pygments_lexer": "ipython3",
   "version": "3.8.5"
  }
 },
 "nbformat": 4,
 "nbformat_minor": 4
}
