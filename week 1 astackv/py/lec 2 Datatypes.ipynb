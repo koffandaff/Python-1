{
 "cells": [
  {
   "cell_type": "markdown",
   "metadata": {},
   "source": [
    "## Data Types:\n",
    "\n",
    "* Everything in python is a class\n",
    "\n",
    "#### Types of Data Types:\n",
    "   \n",
    "   1. Text type:  **str()**\n",
    "   2. Numerical datatype: **int() , Float(), complex()**\n",
    "   3. Sequence type: **list(), tuple(), range()**\n",
    "   4. Mapping type: **dict()**\n",
    "   5. set Type: **set(), frozenset()**\n",
    "   6. Boolean type: **bool()**\n",
    "   \n",
    "\n",
    "   ---"
   ]
  },
  {
   "cell_type": "markdown",
   "metadata": {},
   "source": [
    "### Text dataType"
   ]
  },
  {
   "cell_type": "code",
   "execution_count": null,
   "metadata": {},
   "outputs": [],
   "source": [
    "# String data Type\n",
    "s = 'Text type '# defining a string \n",
    "print(s, \" is of:\",type(s), \"\\n\")\n",
    "\n",
    "print(\"--------------------------------------------------------------------------\", \"\\n\")\n",
    "\n",
    "sm = '''hELLO \n",
    "WORLD '''\n",
    "print(sm, \" is of: \", type(sm), \"\\n\")\n",
    "\n",
    "\n",
    "\n",
    "\n",
    "\n"
   ]
  },
  {
   "cell_type": "markdown",
   "metadata": {},
   "source": [
    "---\n",
    "\n",
    "### Numerical DataType"
   ]
  },
  {
   "cell_type": "code",
   "execution_count": null,
   "metadata": {},
   "outputs": [],
   "source": [
    "# Numerical dataype \n",
    "\n",
    "i = 10 # declaring int \n",
    "print(i, \" is of: \",type(i), \"\\n\")\n",
    "\n",
    "print(\"--------------------------------------------------------------------------\", \"\\n\")\n",
    "\n",
    "f = 10.55 # declaring a float\n",
    "print(f, \" is of: \",type(f), \"\\n\")\n",
    "\n",
    "print(\"--------------------------------------------------------------------------\", \"\\n\")\n",
    "\n",
    "fe = 3e5 # using 'e' sets the datatype to float as default \n",
    "print(fe, \"is of \", type(fe), \"\\n\")\n",
    "\n",
    "print(\"--------------------------------------------------------------------------\", \"\\n\")\n",
    "\n",
    "c = 3+5j # declaring a complex number\n",
    "print(c, \"is of \", type(c), \"\\n\")\n",
    "\n",
    "c1 = 3+4j \n",
    "print(\"Multiplication of complex \", c , \"and \", c1, \" is: \",c*c1) # multiplying two complex "
   ]
  },
  {
   "cell_type": "markdown",
   "metadata": {},
   "source": [
    "---\n",
    "\n",
    "## Sequence Datatype"
   ]
  },
  {
   "cell_type": "code",
   "execution_count": null,
   "metadata": {},
   "outputs": [],
   "source": [
    "\n",
    "# Sequence data type\n",
    "\n",
    "l = [10, 12, \"hi\", 15, 10.1] # declaring a list [ Allows Duplicate]\n",
    "print(l, \" is of \",type(l), \"\\n\")\n",
    "\n",
    "# changing value of List \n",
    "l[3] = 10 # chaning 15 to 10\n",
    "print(\"Changed List \", l, \"\\n\")\n",
    "\n",
    "\n",
    "print(\"--------------------------------------------------------------------------\", \"\\n\")\n",
    "\n",
    "t = (12, \" hello\", 12, 12.22) # declaring a tuple [Allows Duplicate ]\n",
    "print(t, \" is of \", type(t), \"\\n\")\n",
    "\n",
    "# Accessing tuple\n",
    "print(\"Accessing Tuple Through Index, for index 1: \",t[1], \"\\n\")\n",
    "\n",
    "print(\"--------------------------------------------------------------------------\", \"\\n\")\n",
    "\n",
    "# Trying to change a tuple {which is not possible }\n",
    "print(\"Trying to change the value of a tuple \", \"\\n\")\n",
    "try:\n",
    "    t[3] = 33\n",
    "    print(\"Changed tuple\",t, \"\\n\")\n",
    "except Exception as e:\n",
    "    print()\n",
    "    print(e)\n",
    "    \n",
    "    \n",
    "print(\"--------------------------------------------------------------------------\", \"\\n\")\n",
    "    \n",
    "# Updating Tuple\n",
    "print( \"\\n\", \"Updating Tuple through list convsersion\", \"\\n\")\n",
    "tl = list(t) # chaning tuple to list to append\n",
    "\n",
    "tl.append(\"biz\")# appending the tuple\n",
    "\n",
    "tuple(tl)\n",
    "\n",
    "print(\"Original Tuple: \",t, \" and it's type:\", type(t), \"\\n\")\n",
    "print(\"Updated Tuple: \", tl, \" and it's type is: \", type(tl), \"\\n\")\n",
    "\n",
    "\n",
    "print(\"--------------------------------------------------------------------------\", \"\\n\")\n",
    "\n",
    "r = range(3)# declaring a range\n",
    "print(r, \"is of:\", type(r), \"\\n\")"
   ]
  },
  {
   "cell_type": "markdown",
   "metadata": {},
   "source": [
    "---\n",
    "\n",
    "### Mapping DataType"
   ]
  },
  {
   "cell_type": "code",
   "execution_count": null,
   "metadata": {},
   "outputs": [],
   "source": [
    "# Mapping type\n",
    "\n",
    "d = {1:\"Hi\", 2:\"hello\", 3:342, 4:340.11} # declaring a dictionary  [Allows Duplicate Value ]\n",
    "print(d,\"is of: \", type(d), \"\\n\")\n",
    "\n",
    "print(\"--------------------------------------------------------------------------\", \"\\n\")\n",
    "\n",
    "# Accessing the Value of Dict\n",
    "print(\"Accessing Dict through it's key so for key 1 value is:\", d[1], \"\\n\")\n",
    "\n",
    "print(\"--------------------------------------------------------------------------\", \"\\n\")\n",
    "\n",
    "# trying to keep the same Key in Dict\n",
    "print(\"trying to keep the same Key in Dict\", \"\\n\")\n",
    "try:\n",
    "    d = {1: 23, 3: 45, 1: 22, 4: 45} # trying to Have same key in the dict\n",
    "    print(d, \"\\n\")\n",
    "    print(\"Therefore When given the same key it'll discard the old key:value\")\n",
    "    \n",
    "except Exception as e:\n",
    "    print(\"Failed to Declare the same key in the dict not possible \")\n",
    "    print(\"error: \",e)"
   ]
  },
  {
   "cell_type": "markdown",
   "metadata": {},
   "source": [
    "---\n",
    "\n",
    "### Set Type"
   ]
  },
  {
   "cell_type": "code",
   "execution_count": null,
   "metadata": {},
   "outputs": [],
   "source": [
    "# Set type\n",
    "\n",
    "se = {10, 22 , \"Hi\", 10.22} # declaring a set\n",
    "print(se, \"is of \", type(se), \"\\n\")\n",
    "\n",
    "print(\"--------------------------------------------------------------------------\", \"\\n\")\n",
    "# it's unordered\n",
    "# it's changeable but you can't change it accurately \n",
    "# so optimally it's kinda unchangable \n",
    "# But it's not an immutable type of dataset\n",
    "\n",
    "\n",
    "\n",
    "\n",
    "print(frozenset(se))# Declaring a frozen set \n",
    "\n"
   ]
  },
  {
   "cell_type": "markdown",
   "metadata": {},
   "source": [
    "---\n",
    "\n",
    "### Bollean Type"
   ]
  },
  {
   "cell_type": "code",
   "execution_count": null,
   "metadata": {},
   "outputs": [],
   "source": [
    "# Boolean Datatype\n",
    "\n",
    "# boolean \n",
    "b1 = True # declaring boolean as 'True'\n",
    "b2 = False # declaring boolean as 'Fals'\n",
    "print(b1, \" and \",b2 , \"is of :\" , type(b1), \"and\" ,type(b2), )\n",
    "\n",
    "print(\"--------------------------------------------------------------------------\", \"\\n\")\n",
    "\n",
    "# another way to delcare a boolean \n",
    "print(bool(0))\n",
    "print(bool(1))\n"
   ]
  },
  {
   "cell_type": "code",
   "execution_count": null,
   "metadata": {},
   "outputs": [],
   "source": []
  }
 ],
 "metadata": {
  "kernelspec": {
   "display_name": "Python 3",
   "language": "python",
   "name": "python3"
  },
  "language_info": {
   "codemirror_mode": {
    "name": "ipython",
    "version": 3
   },
   "file_extension": ".py",
   "mimetype": "text/x-python",
   "name": "python",
   "nbconvert_exporter": "python",
   "pygments_lexer": "ipython3",
   "version": "3.8.5"
  }
 },
 "nbformat": 4,
 "nbformat_minor": 4
}
