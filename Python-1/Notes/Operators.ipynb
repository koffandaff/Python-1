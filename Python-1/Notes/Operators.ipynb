{
 "cells": [
  {
   "cell_type": "markdown",
   "metadata": {},
   "source": [
    "# Operators\n",
    "\n",
    "   ### Types of Operators:\n",
    "   \n",
    "   1. Arithmetic\n",
    "   2. Conditional \n",
    "   3. Bitwise \n",
    "   4. Assignment\n",
    "   5. Logical \n",
    "   6. Ternary \n",
    "   7. Relational \n",
    "   \n",
    "   ___\n",
    "   \n",
    "   "
   ]
  },
  {
   "cell_type": "markdown",
   "metadata": {},
   "source": [
    "#### Arithemetic Operators:\n",
    "\n",
    "* + ( addition)\n",
    "* - (subtraction)\n",
    "* * (multiplication)\n",
    "* / (division)\n",
    "* % (Modulo)\n",
    "* //  ( Floor Divison )\n",
    "* '**' (power)\n",
    "\n",
    "##### Operators that you can use with String:\n",
    "\n",
    "1. + (concate) [rule: only string + string is allowed]\n",
    "2. * (multiplication) [rule: only string * int is allowed]\n",
    "\n",
    "---"
   ]
  },
  {
   "cell_type": "code",
   "execution_count": 4,
   "metadata": {},
   "outputs": [
    {
     "name": "stdout",
     "output_type": "stream",
     "text": [
      "Arman\n",
      "Arman\n",
      "Arman\n",
      "Arman\n",
      "Arman\n",
      "\n"
     ]
    }
   ],
   "source": [
    "# Use of multiplication operator wiht string \n",
    "print(\"Arman\\n\"*5)"
   ]
  },
  {
   "cell_type": "markdown",
   "metadata": {},
   "source": [
    "\n",
    "___\n",
    "\n",
    "### Relational Operator \n",
    "\n",
    "**Used For Comparison**\n",
    "\n",
    "Types:\n",
    "\n",
    "1. == (equal to)\n",
    "2. != (not Equal to)\n",
    "3. '>' ( greater than)\n",
    "4. '>=' ( greater than equal to)\n",
    "5. < ( less thann )\n",
    "6. <= \n",
    "\n",
    "___"
   ]
  },
  {
   "cell_type": "code",
   "execution_count": 9,
   "metadata": {},
   "outputs": [
    {
     "name": "stdout",
     "output_type": "stream",
     "text": [
      "False\n",
      "True\n"
     ]
    }
   ],
   "source": [
    "print(True>4) # As we know the boolean True has 1 value so it'll compare it on that basis\n",
    "print(False<=0) # False = 0"
   ]
  },
  {
   "cell_type": "markdown",
   "metadata": {},
   "source": [
    "---\n",
    "#### chaining condition\n",
    "\n",
    "( all conditions needs to be right to get a True)"
   ]
  },
  {
   "cell_type": "code",
   "execution_count": 17,
   "metadata": {},
   "outputs": [
    {
     "name": "stdout",
     "output_type": "stream",
     "text": [
      "True\n",
      "False\n",
      "True\n"
     ]
    }
   ],
   "source": [
    "print(10<20<33<44)\n",
    "print (10<20>45<50)\n",
    "print(10<=10<20>12>6)"
   ]
  },
  {
   "cell_type": "markdown",
   "metadata": {},
   "source": [
    "#### Chaining Condition in String"
   ]
  },
  {
   "cell_type": "code",
   "execution_count": 29,
   "metadata": {},
   "outputs": [
    {
     "name": "stdout",
     "output_type": "stream",
     "text": [
      "Ascii value of a:  97\n",
      "Character assigned at 97:  a\n",
      "False\n",
      "True\n",
      "True\n"
     ]
    }
   ],
   "source": [
    "# In string it compares through it's ASCII Value of each character \n",
    "\n",
    "print(\"Ascii value of a: \", ord(\"a\")) # TO find ascii value of any character \n",
    "print(\"Character assigned at 97: \", chr(97)) # finding Character through it's ascii value\n",
    "\n",
    "# Let's see an example \n",
    "print(\"A\">\"a\") # it will return false as the ascii value of A = 65 and a = 97 and 65<97 \n",
    "print(\"a\">\"A\")\n",
    "\n",
    "#For a string \n",
    "\n",
    "print(\"aRmani\"<\"armani\") # In this case it'll check character by character so here a = a so it'll move to R and r \n",
    "# r is greater than R so it'll return true"
   ]
  },
  {
   "cell_type": "markdown",
   "metadata": {},
   "source": [
    "---\n",
    "### Ternary Operator \n",
    "\n",
    "Usecase:\n",
    "* x is evaluated true if condition between a and b is false \n",
    "\n",
    "* Eg: x = 30 if a>b else 40\n",
    "\n",
    "> Syntax: value if a>b else value2"
   ]
  },
  {
   "cell_type": "code",
   "execution_count": 34,
   "metadata": {},
   "outputs": [
    {
     "name": "stdout",
     "output_type": "stream",
     "text": [
      "40\n"
     ]
    }
   ],
   "source": [
    "print(30 if 10>50 else 40) # it will print 30 if the condition is true and will print 40 if condition fails"
   ]
  },
  {
   "cell_type": "markdown",
   "metadata": {},
   "source": [
    "---\n",
    "\n",
    "### Logical Operator \n",
    " Types:\n",
    " 1. and\n",
    " 2. or\n",
    " 3. not\n",
    " \n",
    " ---"
   ]
  },
  {
   "cell_type": "markdown",
   "metadata": {},
   "source": [
    "### 1. For Boolean "
   ]
  },
  {
   "cell_type": "code",
   "execution_count": 37,
   "metadata": {},
   "outputs": [
    {
     "name": "stdout",
     "output_type": "stream",
     "text": [
      "True\n",
      "False\n",
      "False\n"
     ]
    }
   ],
   "source": [
    "# and\n",
    "# True if both are true or else false\n",
    "print(True and True) \n",
    "print(True and False)\n",
    "print(False and False )\n"
   ]
  },
  {
   "cell_type": "code",
   "execution_count": 41,
   "metadata": {},
   "outputs": [
    {
     "name": "stdout",
     "output_type": "stream",
     "text": [
      "True\n",
      "True\n",
      "False\n"
     ]
    }
   ],
   "source": [
    "#Or \n",
    "# Only one of the has to be true\n",
    "print(True or False)\n",
    "print( True or True)\n",
    "print(False or False)"
   ]
  },
  {
   "cell_type": "code",
   "execution_count": 40,
   "metadata": {},
   "outputs": [
    {
     "name": "stdout",
     "output_type": "stream",
     "text": [
      "False\n",
      "True\n"
     ]
    }
   ],
   "source": [
    "# Not\n",
    "print( not True) # will print False\n",
    "print(not False) # Will print True"
   ]
  },
  {
   "cell_type": "markdown",
   "metadata": {},
   "source": [
    "---\n",
    "### 2. Non Boolean\n",
    "\n",
    "1. and ( if val1 evaluates false then returns val1 otherwise val2 ) ( false conditions: int = 0, float = 0.0 and String = \"\")"
   ]
  },
  {
   "cell_type": "code",
   "execution_count": 42,
   "metadata": {},
   "outputs": [
    {
     "name": "stdout",
     "output_type": "stream",
     "text": [
      "0\n",
      "0\n",
      "9\n"
     ]
    }
   ],
   "source": [
    "print(0 and 19) # returns 0 as the conditon is false \n",
    "print(10 and 0) # returns 0 as the condition is true \n",
    "print(\"Armani\" and 9) # returns 9 as the condition is true "
   ]
  },
  {
   "cell_type": "markdown",
   "metadata": {},
   "source": [
    "2. or ( if val1 evaluates True then returns val1 otherwise val2 ) ( false conditions: int = 0, float = 0.0 and String = \"\")"
   ]
  },
  {
   "cell_type": "code",
   "execution_count": 43,
   "metadata": {},
   "outputs": [
    {
     "name": "stdout",
     "output_type": "stream",
     "text": [
      "19\n",
      "10\n",
      "Armani\n"
     ]
    }
   ],
   "source": [
    "print(0 or 19) # returns 19 as the conditon is false \n",
    "print(10 or 0) # returns 10 as the condition is true \n",
    "print(\"Armani\" or 9) # returns Armani as the condition is true "
   ]
  },
  {
   "cell_type": "markdown",
   "metadata": {},
   "source": [
    "---\n",
    "### MemeberShip Operator \n",
    "* in ( checks if the memeber is in the given parameters if it is then True otherwise false)\n",
    "* not in ( check if the member is not in the given paramters if it is in then False Otherwise True)"
   ]
  },
  {
   "cell_type": "code",
   "execution_count": 44,
   "metadata": {},
   "outputs": [
    {
     "name": "stdout",
     "output_type": "stream",
     "text": [
      "False\n",
      "True\n",
      "False\n",
      "True\n"
     ]
    }
   ],
   "source": [
    "l = [12,22,34] # declaring a list\n",
    "print(10 in l) #checks if 10 is in the list \n",
    "print(12 in l) # True as it exists \n",
    "\n",
    "# not in \n",
    "print(12 not in l) #False as it does exists\n",
    "print(10 not in l)  # True as it doesn't exists"
   ]
  },
  {
   "cell_type": "markdown",
   "metadata": {},
   "source": [
    "---\n",
    "### Assignment Operator \n",
    "* = \n",
    "* += \n",
    "* -= \n",
    "* *=\n",
    "* /= \n",
    "* //=\n",
    "* %=\n",
    "* **=\n",
    "\n",
    "Will add the other data Later"
   ]
  }
 ],
 "metadata": {
  "kernelspec": {
   "display_name": "Python 3",
   "language": "python",
   "name": "python3"
  },
  "language_info": {
   "codemirror_mode": {
    "name": "ipython",
    "version": 3
   },
   "file_extension": ".py",
   "mimetype": "text/x-python",
   "name": "python",
   "nbconvert_exporter": "python",
   "pygments_lexer": "ipython3",
   "version": "3.8.5"
  }
 },
 "nbformat": 4,
 "nbformat_minor": 4
}
