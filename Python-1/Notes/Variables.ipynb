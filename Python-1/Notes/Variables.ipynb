{
 "cells": [
  {
   "cell_type": "markdown",
   "metadata": {},
   "source": [
    "## Variables \n",
    "    \n",
    "   #### **Same Rules as Identifier** "
   ]
  },
  {
   "cell_type": "code",
   "execution_count": 1,
   "metadata": {},
   "outputs": [],
   "source": [
    "# Valid Variables \n",
    "a = 10\n",
    "A =12\n",
    "a1 = 30\n",
    "a_1 = 50\n",
    "__a__ = 70\n",
    "_a = \"dnd\"\n",
    "\n"
   ]
  },
  {
   "cell_type": "code",
   "execution_count": 6,
   "metadata": {},
   "outputs": [
    {
     "ename": "SyntaxError",
     "evalue": "invalid syntax (<ipython-input-6-49d807fc01e4>, line 4)",
     "output_type": "error",
     "traceback": [
      "\u001b[1;36m  File \u001b[1;32m\"<ipython-input-6-49d807fc01e4>\"\u001b[1;36m, line \u001b[1;32m4\u001b[0m\n\u001b[1;33m    1a = 1\u001b[0m\n\u001b[1;37m     ^\u001b[0m\n\u001b[1;31mSyntaxError\u001b[0m\u001b[1;31m:\u001b[0m invalid syntax\n"
     ]
    }
   ],
   "source": [
    "# Invalid Variables \n",
    "\n",
    "# Try except ain't working in it \n",
    "try:\n",
    "    1a = 1\n",
    "    \n",
    "except Exception as e:\n",
    "    print(f\"Error: {e}\")"
   ]
  },
  {
   "cell_type": "markdown",
   "metadata": {},
   "source": [
    "---\n",
    "\n",
    "### Packing Values in Variable"
   ]
  },
  {
   "cell_type": "code",
   "execution_count": 9,
   "metadata": {},
   "outputs": [
    {
     "name": "stdout",
     "output_type": "stream",
     "text": [
      "a,b,c Assigned successfull a:10, b:20, c:30\n",
      "\n",
      "Failure while assiging values Error:\n",
      "too many values to unpack (expected 3)\n"
     ]
    }
   ],
   "source": [
    "a,b,c = 10,20,30 # assigning 10 to a , 20 to b and 30 to c\n",
    "\n",
    "print(f\"a,b,c Assigned successfull a:{a}, b:{b}, c:{c}\\n\")\n",
    "\n",
    "#if less variables assigned:\n",
    "\n",
    "try:\n",
    "    d,e,f=10,20,30,40 # assigning more values than variables\n",
    "except Exception as e:\n",
    "    print(\"Failure while assiging values Error:\")\n",
    "    print(e)\n",
    "\n",
    "# if less values => fuck it it's the same damn thing \n",
    "    "
   ]
  },
  {
   "cell_type": "markdown",
   "metadata": {},
   "source": [
    "---\n",
    "\n",
    "### Assign Variables which has same values"
   ]
  },
  {
   "cell_type": "code",
   "execution_count": 10,
   "metadata": {},
   "outputs": [],
   "source": [
    "a=b=c=10 # So dude if you don't get this then just die\n",
    "\n"
   ]
  },
  {
   "cell_type": "markdown",
   "metadata": {},
   "source": [
    "---\n",
    "\n",
    "### Reserved Words\n",
    " \n",
    " \n",
    "**33 Reserved words**\n",
    "\n",
    "##### out of 33 -  **3** are **capital** :\n",
    "    1. True\n",
    "    2. False\n",
    "    3. None\n",
    "    \n",
    "#### Just look up the other reserved words if you are dumb enough"
   ]
  }
 ],
 "metadata": {
  "kernelspec": {
   "display_name": "Python 3",
   "language": "python",
   "name": "python3"
  },
  "language_info": {
   "codemirror_mode": {
    "name": "ipython",
    "version": 3
   },
   "file_extension": ".py",
   "mimetype": "text/x-python",
   "name": "python",
   "nbconvert_exporter": "python",
   "pygments_lexer": "ipython3",
   "version": "3.8.5"
  }
 },
 "nbformat": 4,
 "nbformat_minor": 4
}
